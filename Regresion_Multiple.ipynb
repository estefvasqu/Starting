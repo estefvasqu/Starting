{
  "nbformat": 4,
  "nbformat_minor": 0,
  "metadata": {
    "colab": {
      "name": "Regresion Multiple ",
      "provenance": [],
      "authorship_tag": "ABX9TyMwdwT4UquMK38ZcV20rfjd",
      "include_colab_link": true
    },
    "kernelspec": {
      "name": "python3",
      "display_name": "Python 3"
    }
  },
  "cells": [
    {
      "cell_type": "markdown",
      "metadata": {
        "id": "view-in-github",
        "colab_type": "text"
      },
      "source": [
        "<a href=\"https://colab.research.google.com/github/estefvasqu/Starting/blob/main/Regresion_Multiple.ipynb\" target=\"_parent\"><img src=\"https://colab.research.google.com/assets/colab-badge.svg\" alt=\"Open In Colab\"/></a>"
      ]
    },
    {
      "cell_type": "code",
      "metadata": {
        "colab": {
          "resources": {
            "http://localhost:8080/nbextensions/google.colab/files.js": {
              "data": "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",
              "ok": true,
              "headers": [
                [
                  "content-type",
                  "application/javascript"
                ]
              ],
              "status": 200,
              "status_text": ""
            }
          },
          "base_uri": "https://localhost:8080/",
          "height": 90
        },
        "id": "fgPndtQEmKzQ",
        "outputId": "34ed28bf-e9e4-497b-e73c-1d636e105f01"
      },
      "source": [
        "from google.colab import files \n",
        "  \n",
        "  \n",
        "uploaded = files.upload()"
      ],
      "execution_count": null,
      "outputs": [
        {
          "output_type": "display_data",
          "data": {
            "text/html": [
              "\n",
              "     <input type=\"file\" id=\"files-3f75b715-68bd-455e-b7e6-42b5aa0d1906\" name=\"files[]\" multiple disabled\n",
              "        style=\"border:none\" />\n",
              "     <output id=\"result-3f75b715-68bd-455e-b7e6-42b5aa0d1906\">\n",
              "      Upload widget is only available when the cell has been executed in the\n",
              "      current browser session. Please rerun this cell to enable.\n",
              "      </output>\n",
              "      <script src=\"/nbextensions/google.colab/files.js\"></script> "
            ],
            "text/plain": [
              "<IPython.core.display.HTML object>"
            ]
          },
          "metadata": {
            "tags": []
          }
        },
        {
          "output_type": "stream",
          "text": [
            "Saving Restaurant_Profit_Data.csv to Restaurant_Profit_Data.csv\n"
          ],
          "name": "stdout"
        }
      ]
    },
    {
      "cell_type": "code",
      "metadata": {
        "id": "WQxqxs-vmfIM"
      },
      "source": [
        "import numpy as np \n",
        "import pandas as pd\n",
        "import seaborn as sns \n",
        "import matplotlib.pyplot as plt"
      ],
      "execution_count": null,
      "outputs": []
    },
    {
      "cell_type": "code",
      "metadata": {
        "id": "9gy8CqCCmf5g"
      },
      "source": [
        "import io\n",
        "data = io.BytesIO(uploaded['Restaurant_Profit_Data.csv'])  \n",
        "df= pd.read_csv(data)"
      ],
      "execution_count": null,
      "outputs": []
    },
    {
      "cell_type": "code",
      "metadata": {
        "colab": {
          "base_uri": "https://localhost:8080/",
          "height": 197
        },
        "id": "M3IrQYnysUr_",
        "outputId": "d957f72b-3a4f-4777-84c9-f7b6dbf511d3"
      },
      "source": [
        "df.head()"
      ],
      "execution_count": null,
      "outputs": [
        {
          "output_type": "execute_result",
          "data": {
            "text/html": [
              "<div>\n",
              "<style scoped>\n",
              "    .dataframe tbody tr th:only-of-type {\n",
              "        vertical-align: middle;\n",
              "    }\n",
              "\n",
              "    .dataframe tbody tr th {\n",
              "        vertical-align: top;\n",
              "    }\n",
              "\n",
              "    .dataframe thead th {\n",
              "        text-align: right;\n",
              "    }\n",
              "</style>\n",
              "<table border=\"1\" class=\"dataframe\">\n",
              "  <thead>\n",
              "    <tr style=\"text-align: right;\">\n",
              "      <th></th>\n",
              "      <th>Miscellaneous_Expenses</th>\n",
              "      <th>Food_Innovation_Spend</th>\n",
              "      <th>Advertising</th>\n",
              "      <th>City</th>\n",
              "      <th>Profit</th>\n",
              "    </tr>\n",
              "  </thead>\n",
              "  <tbody>\n",
              "    <tr>\n",
              "      <th>0</th>\n",
              "      <td>138671.80</td>\n",
              "      <td>167497.20</td>\n",
              "      <td>475918.10</td>\n",
              "      <td>Chicago</td>\n",
              "      <td>202443.83</td>\n",
              "    </tr>\n",
              "    <tr>\n",
              "      <th>1</th>\n",
              "      <td>153151.59</td>\n",
              "      <td>164745.70</td>\n",
              "      <td>448032.53</td>\n",
              "      <td>Mumbai</td>\n",
              "      <td>201974.06</td>\n",
              "    </tr>\n",
              "    <tr>\n",
              "      <th>2</th>\n",
              "      <td>102919.55</td>\n",
              "      <td>155589.51</td>\n",
              "      <td>412068.54</td>\n",
              "      <td>Tokyo</td>\n",
              "      <td>201232.39</td>\n",
              "    </tr>\n",
              "    <tr>\n",
              "      <th>3</th>\n",
              "      <td>120445.85</td>\n",
              "      <td>146520.41</td>\n",
              "      <td>387333.62</td>\n",
              "      <td>Chicago</td>\n",
              "      <td>193083.99</td>\n",
              "    </tr>\n",
              "    <tr>\n",
              "      <th>4</th>\n",
              "      <td>93165.77</td>\n",
              "      <td>144255.34</td>\n",
              "      <td>370302.42</td>\n",
              "      <td>Tokyo</td>\n",
              "      <td>176369.94</td>\n",
              "    </tr>\n",
              "  </tbody>\n",
              "</table>\n",
              "</div>"
            ],
            "text/plain": [
              "   Miscellaneous_Expenses  Food_Innovation_Spend  ...     City     Profit\n",
              "0               138671.80              167497.20  ...  Chicago  202443.83\n",
              "1               153151.59              164745.70  ...   Mumbai  201974.06\n",
              "2               102919.55              155589.51  ...    Tokyo  201232.39\n",
              "3               120445.85              146520.41  ...  Chicago  193083.99\n",
              "4                93165.77              144255.34  ...    Tokyo  176369.94\n",
              "\n",
              "[5 rows x 5 columns]"
            ]
          },
          "metadata": {
            "tags": []
          },
          "execution_count": 4
        }
      ]
    },
    {
      "cell_type": "code",
      "metadata": {
        "colab": {
          "base_uri": "https://localhost:8080/"
        },
        "id": "HJNfzu9AsXgk",
        "outputId": "bfcbe979-ee45-41d0-d801-10453c812239"
      },
      "source": [
        "df.info"
      ],
      "execution_count": null,
      "outputs": [
        {
          "output_type": "execute_result",
          "data": {
            "text/plain": [
              "<bound method DataFrame.info of     Miscellaneous_Expenses  Food_Innovation_Spend  ...     City     Profit\n",
              "0                138671.80              167497.20  ...  Chicago  202443.83\n",
              "1                153151.59              164745.70  ...   Mumbai  201974.06\n",
              "2                102919.55              155589.51  ...    Tokyo  201232.39\n",
              "3                120445.85              146520.41  ...  Chicago  193083.99\n",
              "4                 93165.77              144255.34  ...    Tokyo  176369.94\n",
              "5                101588.71              134024.90  ...  Chicago  167173.12\n",
              "6                148972.87              136763.46  ...   Mumbai  166304.51\n",
              "7                147304.06              132446.13  ...    Tokyo  165934.60\n",
              "8                150492.95              122690.52  ...  Chicago  162393.77\n",
              "9                110453.17              125482.88  ...   Mumbai  159941.96\n",
              "10               112368.11              104061.08  ...    Tokyo  156303.95\n",
              "11                93564.61              102819.96  ...   Mumbai  154441.40\n",
              "12               129094.38               96011.75  ...    Tokyo  151767.52\n",
              "13               137269.07               94140.39  ...   Mumbai  144489.35\n",
              "14               158321.42              122091.24  ...    Tokyo  142784.65\n",
              "15               124390.84              116671.61  ...  Chicago  140099.04\n",
              "16               123371.55               80161.11  ...   Mumbai  137174.93\n",
              "17               146851.58               96805.16  ...  Chicago  135552.37\n",
              "18               115949.79               93897.16  ...    Tokyo  134448.90\n",
              "19               155288.11               88567.70  ...  Chicago  132958.86\n",
              "20               115641.30               78401.86  ...   Mumbai  128656.03\n",
              "21               155547.43               80537.47  ...  Chicago  121495.02\n",
              "22               124556.75               76142.56  ...    Tokyo  120534.25\n",
              "23               107525.03               69680.53  ...    Tokyo  118915.99\n",
              "24               101055.34               79192.01  ...  Chicago  118734.04\n",
              "25               141327.16               66812.71  ...   Mumbai  117586.34\n",
              "26               145909.98               77476.87  ...    Tokyo  115915.54\n",
              "27               129638.55               74255.60  ...  Chicago  115190.31\n",
              "28               184419.56               68199.52  ...    Tokyo  113464.38\n",
              "29               154806.06               67753.48  ...  Chicago  111186.64\n",
              "30               117415.28               64142.48  ...    Tokyo  110119.59\n",
              "31               154475.92               63284.38  ...  Chicago  107665.56\n",
              "32               130993.61               65556.86  ...   Mumbai  107609.84\n",
              "33               104831.49               57641.95  ...    Tokyo  106960.92\n",
              "34               159467.92               48574.07  ...   Mumbai  106894.80\n",
              "35                86821.44               48162.02  ...  Chicago  106661.51\n",
              "36               128830.21               30811.76  ...    Tokyo  100890.19\n",
              "37                53057.14               46217.95  ...   Mumbai  100131.14\n",
              "38                67721.93               22377.59  ...  Chicago   91411.06\n",
              "39                84756.09               40706.51  ...   Mumbai   91187.76\n",
              "40               120320.05               30902.33  ...   Mumbai   88421.91\n",
              "41                86484.77               30040.92  ...    Tokyo   87980.83\n",
              "42                97963.63               25788.93  ...   Mumbai   81680.49\n",
              "43               129156.30               17653.73  ...  Chicago   79940.98\n",
              "44               156580.14               24325.74  ...   Mumbai   75382.33\n",
              "45               125927.04                3148.23  ...  Chicago   75108.08\n",
              "46               117590.21                3463.46  ...    Tokyo   59672.75\n",
              "47               137200.92                2148.00  ...   Mumbai   52741.73\n",
              "48                53517.15                2690.05  ...  Chicago   45855.41\n",
              "49               118757.80                2148.00  ...   Mumbai   24863.40\n",
              "\n",
              "[50 rows x 5 columns]>"
            ]
          },
          "metadata": {
            "tags": []
          },
          "execution_count": 5
        }
      ]
    },
    {
      "cell_type": "code",
      "metadata": {
        "colab": {
          "base_uri": "https://localhost:8080/",
          "height": 1000
        },
        "id": "LNyGSc9GvAsj",
        "outputId": "9dd15b09-c409-4a89-91aa-483b560a66e1"
      },
      "source": [
        "x = df.iloc[:, :3]\n",
        "x"
      ],
      "execution_count": null,
      "outputs": [
        {
          "output_type": "execute_result",
          "data": {
            "text/html": [
              "<div>\n",
              "<style scoped>\n",
              "    .dataframe tbody tr th:only-of-type {\n",
              "        vertical-align: middle;\n",
              "    }\n",
              "\n",
              "    .dataframe tbody tr th {\n",
              "        vertical-align: top;\n",
              "    }\n",
              "\n",
              "    .dataframe thead th {\n",
              "        text-align: right;\n",
              "    }\n",
              "</style>\n",
              "<table border=\"1\" class=\"dataframe\">\n",
              "  <thead>\n",
              "    <tr style=\"text-align: right;\">\n",
              "      <th></th>\n",
              "      <th>Miscellaneous_Expenses</th>\n",
              "      <th>Food_Innovation_Spend</th>\n",
              "      <th>Advertising</th>\n",
              "    </tr>\n",
              "  </thead>\n",
              "  <tbody>\n",
              "    <tr>\n",
              "      <th>0</th>\n",
              "      <td>138671.80</td>\n",
              "      <td>167497.20</td>\n",
              "      <td>475918.10</td>\n",
              "    </tr>\n",
              "    <tr>\n",
              "      <th>1</th>\n",
              "      <td>153151.59</td>\n",
              "      <td>164745.70</td>\n",
              "      <td>448032.53</td>\n",
              "    </tr>\n",
              "    <tr>\n",
              "      <th>2</th>\n",
              "      <td>102919.55</td>\n",
              "      <td>155589.51</td>\n",
              "      <td>412068.54</td>\n",
              "    </tr>\n",
              "    <tr>\n",
              "      <th>3</th>\n",
              "      <td>120445.85</td>\n",
              "      <td>146520.41</td>\n",
              "      <td>387333.62</td>\n",
              "    </tr>\n",
              "    <tr>\n",
              "      <th>4</th>\n",
              "      <td>93165.77</td>\n",
              "      <td>144255.34</td>\n",
              "      <td>370302.42</td>\n",
              "    </tr>\n",
              "    <tr>\n",
              "      <th>5</th>\n",
              "      <td>101588.71</td>\n",
              "      <td>134024.90</td>\n",
              "      <td>366995.36</td>\n",
              "    </tr>\n",
              "    <tr>\n",
              "      <th>6</th>\n",
              "      <td>148972.87</td>\n",
              "      <td>136763.46</td>\n",
              "      <td>131850.82</td>\n",
              "    </tr>\n",
              "    <tr>\n",
              "      <th>7</th>\n",
              "      <td>147304.06</td>\n",
              "      <td>132446.13</td>\n",
              "      <td>328010.68</td>\n",
              "    </tr>\n",
              "    <tr>\n",
              "      <th>8</th>\n",
              "      <td>150492.95</td>\n",
              "      <td>122690.52</td>\n",
              "      <td>315747.29</td>\n",
              "    </tr>\n",
              "    <tr>\n",
              "      <th>9</th>\n",
              "      <td>110453.17</td>\n",
              "      <td>125482.88</td>\n",
              "      <td>309115.62</td>\n",
              "    </tr>\n",
              "    <tr>\n",
              "      <th>10</th>\n",
              "      <td>112368.11</td>\n",
              "      <td>104061.08</td>\n",
              "      <td>233294.95</td>\n",
              "    </tr>\n",
              "    <tr>\n",
              "      <th>11</th>\n",
              "      <td>93564.61</td>\n",
              "      <td>102819.96</td>\n",
              "      <td>253878.55</td>\n",
              "    </tr>\n",
              "    <tr>\n",
              "      <th>12</th>\n",
              "      <td>129094.38</td>\n",
              "      <td>96011.75</td>\n",
              "      <td>253973.44</td>\n",
              "    </tr>\n",
              "    <tr>\n",
              "      <th>13</th>\n",
              "      <td>137269.07</td>\n",
              "      <td>94140.39</td>\n",
              "      <td>256798.93</td>\n",
              "    </tr>\n",
              "    <tr>\n",
              "      <th>14</th>\n",
              "      <td>158321.42</td>\n",
              "      <td>122091.24</td>\n",
              "      <td>260646.92</td>\n",
              "    </tr>\n",
              "    <tr>\n",
              "      <th>15</th>\n",
              "      <td>124390.84</td>\n",
              "      <td>116671.61</td>\n",
              "      <td>265910.23</td>\n",
              "    </tr>\n",
              "    <tr>\n",
              "      <th>16</th>\n",
              "      <td>123371.55</td>\n",
              "      <td>80161.11</td>\n",
              "      <td>268480.06</td>\n",
              "    </tr>\n",
              "    <tr>\n",
              "      <th>17</th>\n",
              "      <td>146851.58</td>\n",
              "      <td>96805.16</td>\n",
              "      <td>286708.31</td>\n",
              "    </tr>\n",
              "    <tr>\n",
              "      <th>18</th>\n",
              "      <td>115949.79</td>\n",
              "      <td>93897.16</td>\n",
              "      <td>299053.57</td>\n",
              "    </tr>\n",
              "    <tr>\n",
              "      <th>19</th>\n",
              "      <td>155288.11</td>\n",
              "      <td>88567.70</td>\n",
              "      <td>4134.00</td>\n",
              "    </tr>\n",
              "    <tr>\n",
              "      <th>20</th>\n",
              "      <td>115641.30</td>\n",
              "      <td>78401.86</td>\n",
              "      <td>302798.47</td>\n",
              "    </tr>\n",
              "    <tr>\n",
              "      <th>21</th>\n",
              "      <td>155547.43</td>\n",
              "      <td>80537.47</td>\n",
              "      <td>303871.29</td>\n",
              "    </tr>\n",
              "    <tr>\n",
              "      <th>22</th>\n",
              "      <td>124556.75</td>\n",
              "      <td>76142.56</td>\n",
              "      <td>307453.26</td>\n",
              "    </tr>\n",
              "    <tr>\n",
              "      <th>23</th>\n",
              "      <td>107525.03</td>\n",
              "      <td>69680.53</td>\n",
              "      <td>308902.73</td>\n",
              "    </tr>\n",
              "    <tr>\n",
              "      <th>24</th>\n",
              "      <td>101055.34</td>\n",
              "      <td>79192.01</td>\n",
              "      <td>144708.81</td>\n",
              "    </tr>\n",
              "    <tr>\n",
              "      <th>25</th>\n",
              "      <td>141327.16</td>\n",
              "      <td>66812.71</td>\n",
              "      <td>142096.62</td>\n",
              "    </tr>\n",
              "    <tr>\n",
              "      <th>26</th>\n",
              "      <td>145909.98</td>\n",
              "      <td>77476.87</td>\n",
              "      <td>138184.07</td>\n",
              "    </tr>\n",
              "    <tr>\n",
              "      <th>27</th>\n",
              "      <td>129638.55</td>\n",
              "      <td>74255.60</td>\n",
              "      <td>357317.81</td>\n",
              "    </tr>\n",
              "    <tr>\n",
              "      <th>28</th>\n",
              "      <td>184419.56</td>\n",
              "      <td>68199.52</td>\n",
              "      <td>122282.20</td>\n",
              "    </tr>\n",
              "    <tr>\n",
              "      <th>29</th>\n",
              "      <td>154806.06</td>\n",
              "      <td>67753.48</td>\n",
              "      <td>111272.38</td>\n",
              "    </tr>\n",
              "    <tr>\n",
              "      <th>30</th>\n",
              "      <td>117415.28</td>\n",
              "      <td>64142.48</td>\n",
              "      <td>95265.24</td>\n",
              "    </tr>\n",
              "    <tr>\n",
              "      <th>31</th>\n",
              "      <td>154475.92</td>\n",
              "      <td>63284.38</td>\n",
              "      <td>92352.23</td>\n",
              "    </tr>\n",
              "    <tr>\n",
              "      <th>32</th>\n",
              "      <td>130993.61</td>\n",
              "      <td>65556.86</td>\n",
              "      <td>50219.25</td>\n",
              "    </tr>\n",
              "    <tr>\n",
              "      <th>33</th>\n",
              "      <td>104831.49</td>\n",
              "      <td>57641.95</td>\n",
              "      <td>218768.81</td>\n",
              "    </tr>\n",
              "    <tr>\n",
              "      <th>34</th>\n",
              "      <td>159467.92</td>\n",
              "      <td>48574.07</td>\n",
              "      <td>214931.67</td>\n",
              "    </tr>\n",
              "    <tr>\n",
              "      <th>35</th>\n",
              "      <td>86821.44</td>\n",
              "      <td>48162.02</td>\n",
              "      <td>209651.64</td>\n",
              "    </tr>\n",
              "    <tr>\n",
              "      <th>36</th>\n",
              "      <td>128830.21</td>\n",
              "      <td>30811.76</td>\n",
              "      <td>205260.82</td>\n",
              "    </tr>\n",
              "    <tr>\n",
              "      <th>37</th>\n",
              "      <td>53057.14</td>\n",
              "      <td>46217.95</td>\n",
              "      <td>201163.42</td>\n",
              "    </tr>\n",
              "    <tr>\n",
              "      <th>38</th>\n",
              "      <td>67721.93</td>\n",
              "      <td>22377.59</td>\n",
              "      <td>189399.10</td>\n",
              "    </tr>\n",
              "    <tr>\n",
              "      <th>39</th>\n",
              "      <td>84756.09</td>\n",
              "      <td>40706.51</td>\n",
              "      <td>179133.30</td>\n",
              "    </tr>\n",
              "    <tr>\n",
              "      <th>40</th>\n",
              "      <td>120320.05</td>\n",
              "      <td>30902.33</td>\n",
              "      <td>176929.67</td>\n",
              "    </tr>\n",
              "    <tr>\n",
              "      <th>41</th>\n",
              "      <td>86484.77</td>\n",
              "      <td>30040.92</td>\n",
              "      <td>168604.71</td>\n",
              "    </tr>\n",
              "    <tr>\n",
              "      <th>42</th>\n",
              "      <td>97963.63</td>\n",
              "      <td>25788.93</td>\n",
              "      <td>152135.11</td>\n",
              "    </tr>\n",
              "    <tr>\n",
              "      <th>43</th>\n",
              "      <td>129156.30</td>\n",
              "      <td>17653.73</td>\n",
              "      <td>39668.17</td>\n",
              "    </tr>\n",
              "    <tr>\n",
              "      <th>44</th>\n",
              "      <td>156580.14</td>\n",
              "      <td>24325.74</td>\n",
              "      <td>32468.72</td>\n",
              "    </tr>\n",
              "    <tr>\n",
              "      <th>45</th>\n",
              "      <td>125927.04</td>\n",
              "      <td>3148.23</td>\n",
              "      <td>6037.93</td>\n",
              "    </tr>\n",
              "    <tr>\n",
              "      <th>46</th>\n",
              "      <td>117590.21</td>\n",
              "      <td>3463.46</td>\n",
              "      <td>301248.46</td>\n",
              "    </tr>\n",
              "    <tr>\n",
              "      <th>47</th>\n",
              "      <td>137200.92</td>\n",
              "      <td>2148.00</td>\n",
              "      <td>4134.00</td>\n",
              "    </tr>\n",
              "    <tr>\n",
              "      <th>48</th>\n",
              "      <td>53517.15</td>\n",
              "      <td>2690.05</td>\n",
              "      <td>4134.00</td>\n",
              "    </tr>\n",
              "    <tr>\n",
              "      <th>49</th>\n",
              "      <td>118757.80</td>\n",
              "      <td>2148.00</td>\n",
              "      <td>49307.06</td>\n",
              "    </tr>\n",
              "  </tbody>\n",
              "</table>\n",
              "</div>"
            ],
            "text/plain": [
              "    Miscellaneous_Expenses  Food_Innovation_Spend  Advertising\n",
              "0                138671.80              167497.20    475918.10\n",
              "1                153151.59              164745.70    448032.53\n",
              "2                102919.55              155589.51    412068.54\n",
              "3                120445.85              146520.41    387333.62\n",
              "4                 93165.77              144255.34    370302.42\n",
              "5                101588.71              134024.90    366995.36\n",
              "6                148972.87              136763.46    131850.82\n",
              "7                147304.06              132446.13    328010.68\n",
              "8                150492.95              122690.52    315747.29\n",
              "9                110453.17              125482.88    309115.62\n",
              "10               112368.11              104061.08    233294.95\n",
              "11                93564.61              102819.96    253878.55\n",
              "12               129094.38               96011.75    253973.44\n",
              "13               137269.07               94140.39    256798.93\n",
              "14               158321.42              122091.24    260646.92\n",
              "15               124390.84              116671.61    265910.23\n",
              "16               123371.55               80161.11    268480.06\n",
              "17               146851.58               96805.16    286708.31\n",
              "18               115949.79               93897.16    299053.57\n",
              "19               155288.11               88567.70      4134.00\n",
              "20               115641.30               78401.86    302798.47\n",
              "21               155547.43               80537.47    303871.29\n",
              "22               124556.75               76142.56    307453.26\n",
              "23               107525.03               69680.53    308902.73\n",
              "24               101055.34               79192.01    144708.81\n",
              "25               141327.16               66812.71    142096.62\n",
              "26               145909.98               77476.87    138184.07\n",
              "27               129638.55               74255.60    357317.81\n",
              "28               184419.56               68199.52    122282.20\n",
              "29               154806.06               67753.48    111272.38\n",
              "30               117415.28               64142.48     95265.24\n",
              "31               154475.92               63284.38     92352.23\n",
              "32               130993.61               65556.86     50219.25\n",
              "33               104831.49               57641.95    218768.81\n",
              "34               159467.92               48574.07    214931.67\n",
              "35                86821.44               48162.02    209651.64\n",
              "36               128830.21               30811.76    205260.82\n",
              "37                53057.14               46217.95    201163.42\n",
              "38                67721.93               22377.59    189399.10\n",
              "39                84756.09               40706.51    179133.30\n",
              "40               120320.05               30902.33    176929.67\n",
              "41                86484.77               30040.92    168604.71\n",
              "42                97963.63               25788.93    152135.11\n",
              "43               129156.30               17653.73     39668.17\n",
              "44               156580.14               24325.74     32468.72\n",
              "45               125927.04                3148.23      6037.93\n",
              "46               117590.21                3463.46    301248.46\n",
              "47               137200.92                2148.00      4134.00\n",
              "48                53517.15                2690.05      4134.00\n",
              "49               118757.80                2148.00     49307.06"
            ]
          },
          "metadata": {
            "tags": []
          },
          "execution_count": 6
        }
      ]
    },
    {
      "cell_type": "code",
      "metadata": {
        "colab": {
          "base_uri": "https://localhost:8080/"
        },
        "id": "Giqy8gf8wC5M",
        "outputId": "5443eeca-2507-4869-dd2b-318b9d8a1cab"
      },
      "source": [
        "y = df.iloc[:, 4]\n",
        "y"
      ],
      "execution_count": null,
      "outputs": [
        {
          "output_type": "execute_result",
          "data": {
            "text/plain": [
              "0     202443.83\n",
              "1     201974.06\n",
              "2     201232.39\n",
              "3     193083.99\n",
              "4     176369.94\n",
              "5     167173.12\n",
              "6     166304.51\n",
              "7     165934.60\n",
              "8     162393.77\n",
              "9     159941.96\n",
              "10    156303.95\n",
              "11    154441.40\n",
              "12    151767.52\n",
              "13    144489.35\n",
              "14    142784.65\n",
              "15    140099.04\n",
              "16    137174.93\n",
              "17    135552.37\n",
              "18    134448.90\n",
              "19    132958.86\n",
              "20    128656.03\n",
              "21    121495.02\n",
              "22    120534.25\n",
              "23    118915.99\n",
              "24    118734.04\n",
              "25    117586.34\n",
              "26    115915.54\n",
              "27    115190.31\n",
              "28    113464.38\n",
              "29    111186.64\n",
              "30    110119.59\n",
              "31    107665.56\n",
              "32    107609.84\n",
              "33    106960.92\n",
              "34    106894.80\n",
              "35    106661.51\n",
              "36    100890.19\n",
              "37    100131.14\n",
              "38     91411.06\n",
              "39     91187.76\n",
              "40     88421.91\n",
              "41     87980.83\n",
              "42     81680.49\n",
              "43     79940.98\n",
              "44     75382.33\n",
              "45     75108.08\n",
              "46     59672.75\n",
              "47     52741.73\n",
              "48     45855.41\n",
              "49     24863.40\n",
              "Name: Profit, dtype: float64"
            ]
          },
          "metadata": {
            "tags": []
          },
          "execution_count": 7
        }
      ]
    },
    {
      "cell_type": "code",
      "metadata": {
        "colab": {
          "base_uri": "https://localhost:8080/",
          "height": 684
        },
        "id": "5htRYdQmxTHj",
        "outputId": "5ded4602-da82-4323-b53d-768d72c31666"
      },
      "source": [
        "sns.pairplot(df)"
      ],
      "execution_count": null,
      "outputs": [
        {
          "output_type": "execute_result",
          "data": {
            "text/plain": [
              "<seaborn.axisgrid.PairGrid at 0x7f5b89a30a10>"
            ]
          },
          "metadata": {
            "tags": []
          },
          "execution_count": 8
        },
        {
          "output_type": "display_data",
          "data": {
            "image/png": "[encoded data removed]",
            "text/plain": [
              "<Figure size 720x720 with 20 Axes>"
            ]
          },
          "metadata": {
            "tags": [],
            "needs_background": "light"
          }
        }
      ]
    },
    {
      "cell_type": "code",
      "metadata": {
        "colab": {
          "base_uri": "https://localhost:8080/",
          "height": 400
        },
        "id": "ikIqiVRFxnFa",
        "outputId": "7974ad6b-9dc2-4377-9252-eb944ffadaee"
      },
      "source": [
        "sns.heatmap(df.corr(), annot=True)"
      ],
      "execution_count": null,
      "outputs": [
        {
          "output_type": "execute_result",
          "data": {
            "text/plain": [
              "<matplotlib.axes._subplots.AxesSubplot at 0x7f5b7fff9d50>"
            ]
          },
          "metadata": {
            "tags": []
          },
          "execution_count": 9
        },
        {
          "output_type": "display_data",
          "data": {
            "image/png": "[encoded data removed]",
            "text/plain": [
              "<Figure size 432x288 with 2 Axes>"
            ]
          },
          "metadata": {
            "tags": [],
            "needs_background": "light"
          }
        }
      ]
    },
    {
      "cell_type": "code",
      "metadata": {
        "id": "iqFgGVSe0JK-"
      },
      "source": [
        "from sklearn.linear_model import LinearRegression\n",
        "from sklearn.model_selection import train_test_split"
      ],
      "execution_count": null,
      "outputs": []
    },
    {
      "cell_type": "code",
      "metadata": {
        "id": "7Q-Yydpn0gT2"
      },
      "source": [
        "x_train, x_test, y_train, y_test = train_test_split(x, y, test_size = 0.3)"
      ],
      "execution_count": null,
      "outputs": []
    },
    {
      "cell_type": "code",
      "metadata": {
        "colab": {
          "base_uri": "https://localhost:8080/"
        },
        "id": "AO0Nc96n0_Mw",
        "outputId": "a128d803-b6bd-4e28-f6bb-f046f6e6e0f3"
      },
      "source": [
        "rm = LinearRegression()\n",
        "rm.fit(x_train, y_train)"
      ],
      "execution_count": null,
      "outputs": [
        {
          "output_type": "execute_result",
          "data": {
            "text/plain": [
              "LinearRegression(copy_X=True, fit_intercept=True, n_jobs=None, normalize=False)"
            ]
          },
          "metadata": {
            "tags": []
          },
          "execution_count": 12
        }
      ]
    },
    {
      "cell_type": "code",
      "metadata": {
        "colab": {
          "base_uri": "https://localhost:8080/"
        },
        "id": "o8GeUFUv2HC-",
        "outputId": "db25f898-7776-4326-b954-7b9c2ccce5ff"
      },
      "source": [
        "print('Coeficientes: \\n', rm.coef_)"
      ],
      "execution_count": null,
      "outputs": [
        {
          "output_type": "stream",
          "text": [
            "Coeficientes: \n",
            " [0.02611268 0.76690934 0.03615865]\n"
          ],
          "name": "stdout"
        }
      ]
    },
    {
      "cell_type": "code",
      "metadata": {
        "colab": {
          "base_uri": "https://localhost:8080/"
        },
        "id": "wUeagYJk2VwW",
        "outputId": "2d7bbfbb-5854-4642-8f2a-6bde16a37a72"
      },
      "source": [
        "print('Intercepcion: \\n', rm.intercept_)"
      ],
      "execution_count": null,
      "outputs": [
        {
          "output_type": "stream",
          "text": [
            "Intercepcion: \n",
            " 53613.70903527248\n"
          ],
          "name": "stdout"
        }
      ]
    },
    {
      "cell_type": "code",
      "metadata": {
        "colab": {
          "base_uri": "https://localhost:8080/"
        },
        "id": "INcc8jfQ2jtD",
        "outputId": "a1651f55-bb6c-4500-f83c-dee638af6cb8"
      },
      "source": [
        "prediccion = rm.predict(x_test)\n",
        "prediccion"
      ],
      "execution_count": null,
      "outputs": [
        {
          "output_type": "execute_result",
          "data": {
            "text/plain": [
              "array([ 60144.99157976, 160805.45866111,  70233.20225905, 180066.92011606,\n",
              "        77532.09852237, 167156.51231788,  79392.10877337, 190524.10480576,\n",
              "       163052.98477068, 126866.36195688, 170894.81034157, 139800.35385415,\n",
              "        59534.73203452, 109126.33177565, 128019.45139647])"
            ]
          },
          "metadata": {
            "tags": []
          },
          "execution_count": 15
        }
      ]
    },
    {
      "cell_type": "code",
      "metadata": {
        "id": "euO5hE4qFW8k",
        "colab": {
          "base_uri": "https://localhost:8080/"
        },
        "outputId": "7dbec8c2-a30b-4cef-bc7a-ad2b9f7e8c61"
      },
      "source": [
        "#Multicolinealidad\n",
        "from statsmodels.stats.outliers_influence import variance_inflation_factor\n"
      ],
      "execution_count": null,
      "outputs": [
        {
          "output_type": "stream",
          "text": [
            "/usr/local/lib/python3.7/dist-packages/statsmodels/tools/_testing.py:19: FutureWarning: pandas.util.testing is deprecated. Use the functions in the public API at pandas.testing instead.\n",
            "  import pandas.util.testing as tm\n"
          ],
          "name": "stderr"
        }
      ]
    },
    {
      "cell_type": "code",
      "metadata": {
        "id": "ox9WGzfhFgvs"
      },
      "source": [
        "# VIF dataframe \n",
        "vif_data = pd.DataFrame() \n",
        "vif_data[\"feature\"] = x.columns"
      ],
      "execution_count": null,
      "outputs": []
    },
    {
      "cell_type": "code",
      "metadata": {
        "colab": {
          "base_uri": "https://localhost:8080/",
          "height": 137
        },
        "id": "94FNhmLFF67x",
        "outputId": "5a21f948-486c-4d01-951f-c10b6624de4c"
      },
      "source": [
        "# calculating VIF for each feature \n",
        "\n",
        "vif_data[\"VIF\"] = [variance_inflation_factor(x.values, i) \n",
        "\n",
        "                          for i in range(len(x.columns))]\n",
        "vif_data"
      ],
      "execution_count": null,
      "outputs": [
        {
          "output_type": "execute_result",
          "data": {
            "text/html": [
              "<div>\n",
              "<style scoped>\n",
              "    .dataframe tbody tr th:only-of-type {\n",
              "        vertical-align: middle;\n",
              "    }\n",
              "\n",
              "    .dataframe tbody tr th {\n",
              "        vertical-align: top;\n",
              "    }\n",
              "\n",
              "    .dataframe thead th {\n",
              "        text-align: right;\n",
              "    }\n",
              "</style>\n",
              "<table border=\"1\" class=\"dataframe\">\n",
              "  <thead>\n",
              "    <tr style=\"text-align: right;\">\n",
              "      <th></th>\n",
              "      <th>feature</th>\n",
              "      <th>VIF</th>\n",
              "    </tr>\n",
              "  </thead>\n",
              "  <tbody>\n",
              "    <tr>\n",
              "      <th>0</th>\n",
              "      <td>Miscellaneous_Expenses</td>\n",
              "      <td>4.176173</td>\n",
              "    </tr>\n",
              "    <tr>\n",
              "      <th>1</th>\n",
              "      <td>Food_Innovation_Spend</td>\n",
              "      <td>8.767296</td>\n",
              "    </tr>\n",
              "    <tr>\n",
              "      <th>2</th>\n",
              "      <td>Advertising</td>\n",
              "      <td>7.839743</td>\n",
              "    </tr>\n",
              "  </tbody>\n",
              "</table>\n",
              "</div>"
            ],
            "text/plain": [
              "                  feature       VIF\n",
              "0  Miscellaneous_Expenses  4.176173\n",
              "1   Food_Innovation_Spend  8.767296\n",
              "2             Advertising  7.839743"
            ]
          },
          "metadata": {
            "tags": []
          },
          "execution_count": 18
        }
      ]
    },
    {
      "cell_type": "code",
      "metadata": {
        "id": "VXGeyXuD194N"
      },
      "source": [
        "from sklearn.decomposition import PCA\n",
        "from sklearn import preprocessing"
      ],
      "execution_count": null,
      "outputs": []
    },
    {
      "cell_type": "code",
      "metadata": {
        "id": "vNoEv3QQ2KaW"
      },
      "source": [
        "#Estandarizar\n",
        "scaled_df = preprocessing.scale(x.T)"
      ],
      "execution_count": null,
      "outputs": []
    },
    {
      "cell_type": "code",
      "metadata": {
        "id": "3slDNiDH3PMV"
      },
      "source": [
        "pca = PCA()\n",
        "pca.fit(scaled_df)\n",
        "pca_df = pca.transform(scaled_df)"
      ],
      "execution_count": null,
      "outputs": []
    },
    {
      "cell_type": "code",
      "metadata": {
        "colab": {
          "base_uri": "https://localhost:8080/"
        },
        "id": "wQHVx35B4JXQ",
        "outputId": "7291893a-5e4f-43b3-be44-96a500b1e1c1"
      },
      "source": [
        "explained_variance = pca.explained_variance_ratio_\n",
        "explained_variance"
      ],
      "execution_count": null,
      "outputs": [
        {
          "output_type": "execute_result",
          "data": {
            "text/plain": [
              "array([7.17513123e-01, 2.82486877e-01, 5.11013412e-33])"
            ]
          },
          "metadata": {
            "tags": []
          },
          "execution_count": 22
        }
      ]
    },
    {
      "cell_type": "code",
      "metadata": {
        "colab": {
          "base_uri": "https://localhost:8080/"
        },
        "id": "G7T93dxu7JGd",
        "outputId": "7e048863-b762-451a-badc-1f349cbe8828"
      },
      "source": [
        "import statsmodels.api as sm\n",
        "from termcolor import colored as cl\n",
        "\n",
        "slr_model = sm.OLS(y, x) # Ordinary Least Squares \n",
        "slr_reg = slr_model.fit()\n",
        "print(cl(slr_reg.summary(),attrs = ['bold']))"
      ],
      "execution_count": null,
      "outputs": [
        {
          "output_type": "stream",
          "text": [
            "\u001b[1m                                 OLS Regression Results                                \n",
            "=======================================================================================\n",
            "Dep. Variable:                 Profit   R-squared (uncentered):                   0.987\n",
            "Model:                            OLS   Adj. R-squared (uncentered):              0.986\n",
            "Method:                 Least Squares   F-statistic:                              1217.\n",
            "Date:                Wed, 31 Mar 2021   Prob (F-statistic):                    1.54e-44\n",
            "Time:                        01:49:24   Log-Likelihood:                         -550.01\n",
            "No. Observations:                  50   AIC:                                      1106.\n",
            "Df Residuals:                      47   BIC:                                      1112.\n",
            "Df Model:                           3                                                  \n",
            "Covariance Type:            nonrobust                                                  \n",
            "==========================================================================================\n",
            "                             coef    std err          t      P>|t|      [0.025      0.975]\n",
            "------------------------------------------------------------------------------------------\n",
            "Miscellaneous_Expenses     0.3812      0.034     11.137      0.000       0.312       0.450\n",
            "Food_Innovation_Spend      0.7066      0.071      9.984      0.000       0.564       0.849\n",
            "Advertising                0.0902      0.024      3.762      0.000       0.042       0.138\n",
            "==============================================================================\n",
            "Omnibus:                        1.023   Durbin-Watson:                   1.374\n",
            "Prob(Omnibus):                  0.600   Jarque-Bera (JB):                0.895\n",
            "Skew:                          -0.044   Prob(JB):                        0.639\n",
            "Kurtosis:                       2.351   Cond. No.                         9.95\n",
            "==============================================================================\n",
            "\n",
            "Warnings:\n",
            "[1] Standard Errors assume that the covariance matrix of the errors is correctly specified.\u001b[0m\n"
          ],
          "name": "stdout"
        }
      ]
    },
    {
      "cell_type": "code",
      "metadata": {
        "colab": {
          "base_uri": "https://localhost:8080/",
          "height": 391
        },
        "id": "uqMKuDbM8UU4",
        "outputId": "e4a456a2-e8bc-40f7-bd78-a27f9f057b0f"
      },
      "source": [
        "sns.distplot(prediccion, hist = False, color = 'r', label = 'Valores Predichos')\n",
        "sns.distplot(y_test, hist = False, color = 'b', label = 'Valores Reales')\n",
        "plt.title('Valores Predicho vs Valores Reales', fontsize = 16)\n",
        "plt.xlabel('Values', fontsize = 12)\n",
        "plt.ylabel('Frequency', fontsize = 12)\n",
        "plt.legend(loc = 'upper left', fontsize = 13)\n",
        "\n",
        "plt.savefig('ap.png')"
      ],
      "execution_count": null,
      "outputs": [
        {
          "output_type": "stream",
          "text": [
            "/usr/local/lib/python3.7/dist-packages/seaborn/distributions.py:2557: FutureWarning: `distplot` is a deprecated function and will be removed in a future version. Please adapt your code to use either `displot` (a figure-level function with similar flexibility) or `kdeplot` (an axes-level function for kernel density plots).\n",
            "  warnings.warn(msg, FutureWarning)\n",
            "/usr/local/lib/python3.7/dist-packages/seaborn/distributions.py:2557: FutureWarning: `distplot` is a deprecated function and will be removed in a future version. Please adapt your code to use either `displot` (a figure-level function with similar flexibility) or `kdeplot` (an axes-level function for kernel density plots).\n",
            "  warnings.warn(msg, FutureWarning)\n"
          ],
          "name": "stderr"
        },
        {
          "output_type": "display_data",
          "data": {
            "image/png": "[encoded data removed]",
            "text/plain": [
              "<Figure size 432x288 with 1 Axes>"
            ]
          },
          "metadata": {
            "tags": [],
            "needs_background": "light"
          }
        }
      ]
    }
  ]
}